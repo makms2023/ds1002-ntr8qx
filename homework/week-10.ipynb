{
  "nbformat": 4,
  "nbformat_minor": 0,
  "metadata": {
    "colab": {
      "provenance": [],
      "include_colab_link": true
    },
    "kernelspec": {
      "name": "python3",
      "display_name": "Python 3"
    },
    "language_info": {
      "name": "python"
    }
  },
  "cells": [
    {
      "cell_type": "markdown",
      "metadata": {
        "id": "view-in-github",
        "colab_type": "text"
      },
      "source": [
        "<a href=\"https://colab.research.google.com/github/makms2023/ds1002-ntr8qx/blob/main/homework/week-10.ipynb\" target=\"_parent\"><img src=\"https://colab.research.google.com/assets/colab-badge.svg\" alt=\"Open In Colab\"/></a>"
      ]
    },
    {
      "cell_type": "markdown",
      "source": [
        "# Homework - Week 10\n",
        "\n",
        "Complete the following blocks as specified in the directions. Run each cell to return the desired output. Save your notebook back to your GitHub repository and submit the GitHub URL to your notebook for review."
      ],
      "metadata": {
        "id": "phbaQTT5gy8A"
      }
    },
    {
      "cell_type": "markdown",
      "source": [
        "## Class Basics\n",
        "\n",
        "Closely inspect the class below and answer the questions in the following cells."
      ],
      "metadata": {
        "id": "38Pg39pMrDua"
      }
    },
    {
      "cell_type": "code",
      "source": [
        "\n",
        "class Products:\n",
        "  def __init__(self, id, name, price, description, manufacturer):\n",
        "    self.id = id\n",
        "    self.name = name\n",
        "    self.price = price\n",
        "    self.description = description\n",
        "    self.manufacturer = manufacturer\n",
        "\n",
        "  def print_product(self):\n",
        "    print(f\"Product {self.id} is {self.name} made by {self.manufacturer}. It costs ${self.price}\")\n"
      ],
      "metadata": {
        "id": "kdFLCHtOg53p"
      },
      "execution_count": 2,
      "outputs": []
    },
    {
      "cell_type": "code",
      "source": [
        "# What are the attributes of this class?\n",
        "\n",
        "# id, name, price, description, manufacturer"
      ],
      "metadata": {
        "id": "SG85PC5Q0oSi"
      },
      "execution_count": 4,
      "outputs": []
    },
    {
      "cell_type": "code",
      "source": [
        "# In one line of code, create an instance of the class populating its attributes.\n",
        "\n",
        "product=Products(1,\"car\",5,\"grey\",\"ford\")"
      ],
      "metadata": {
        "id": "ckuUZlUc0q8D"
      },
      "execution_count": 49,
      "outputs": []
    },
    {
      "cell_type": "code",
      "source": [
        "# Referencing the instance you just created, what code is required to print out the name of the instance?\n",
        "\n",
        "print(product.name)"
      ],
      "metadata": {
        "id": "Ksp2TAiM0u5t",
        "outputId": "b212d218-949d-4b3f-d41a-fd753a42463d",
        "colab": {
          "base_uri": "https://localhost:8080/"
        }
      },
      "execution_count": 50,
      "outputs": [
        {
          "output_type": "stream",
          "name": "stdout",
          "text": [
            "car\n"
          ]
        }
      ]
    },
    {
      "cell_type": "markdown",
      "source": [
        "## Class Methods"
      ],
      "metadata": {
        "id": "0jQs4JYU2Kfh"
      }
    },
    {
      "cell_type": "code",
      "source": [
        "# Using the instance you created above, call the `print_product` method properly in a line of code.\n",
        "\n",
        "product.print_product()"
      ],
      "metadata": {
        "id": "aO-zWkhd172f",
        "outputId": "608bf29e-bcd4-4c4e-d152-6bc92b8554f9",
        "colab": {
          "base_uri": "https://localhost:8080/"
        }
      },
      "execution_count": 51,
      "outputs": [
        {
          "output_type": "stream",
          "name": "stdout",
          "text": [
            "Product 1 is car made by ford. It costs $5\n"
          ]
        }
      ]
    },
    {
      "cell_type": "code",
      "source": [
        "# Now declare the class again (copy + paste from above). But now add a NEW method that you write.\n",
        "# This method should create a new attribute called \"sales_price\" that is 80% of the normal price.\n",
        "class Products:\n",
        "  def __init__(self, id, name, price, description, manufacturer):\n",
        "    self.id = id\n",
        "    self.name = name\n",
        "    self.price = price\n",
        "    self.description = description\n",
        "    self.manufacturer = manufacturer\n",
        "\n",
        "  def print_product(self):\n",
        "    print(f\"Product {self.id} is {self.name} made by {self.manufacturer}. It costs ${self.price}\")\n",
        "\n",
        "  def calculate_sales_price(self):\n",
        "        self.sales_price = 0.8 * self.price\n",
        "\n",
        "\n",
        "\n",
        "# Finally, write this method to print out a statement like \"The ________ product is on sale for _____\"\n",
        "# where you fill in the blanks with the name and sales_price of the product.\n",
        "\n",
        "  def print_sales_message(self):\n",
        "    print(f\"The {self.name} product is on sale for ${self.sales_price}\")\n",
        "\n"
      ],
      "metadata": {
        "id": "75apcUeJ2VQo"
      },
      "execution_count": 52,
      "outputs": []
    },
    {
      "cell_type": "code",
      "source": [
        "# Execute the class above\n",
        "\n",
        "\n",
        "\n",
        "product.calculate_sales_price()\n",
        "product.print_sales_message()"
      ],
      "metadata": {
        "id": "TZiNWOl_2-oh",
        "outputId": "065ab76c-04ea-4c7e-b340-c6d69ff4a68c",
        "colab": {
          "base_uri": "https://localhost:8080/"
        }
      },
      "execution_count": 39,
      "outputs": [
        {
          "output_type": "stream",
          "name": "stdout",
          "text": [
            "The car product is on sale for $4.0\n"
          ]
        }
      ]
    },
    {
      "cell_type": "code",
      "source": [
        "# Now create an instance of the class with new values.\n",
        "\n",
        "product2 = Products(2, \"bike\", 3, \"orange\", \"honda\")"
      ],
      "metadata": {
        "id": "TT8qK1Ie3EVX"
      },
      "execution_count": 53,
      "outputs": []
    },
    {
      "cell_type": "code",
      "source": [
        "# Finally, using the instance you just created, invoke the new method you wrote. Be sure it prints\n",
        "# the desired text described above.\n",
        "\n",
        "product2.calculate_sales_price()\n",
        "product2.print_sales_message()"
      ],
      "metadata": {
        "id": "mobnFcMw3Icp",
        "outputId": "e1ba1593-ada8-4b56-efb3-b4e06bb04bea",
        "colab": {
          "base_uri": "https://localhost:8080/"
        }
      },
      "execution_count": 54,
      "outputs": [
        {
          "output_type": "stream",
          "name": "stdout",
          "text": [
            "The bike product is on sale for $2.4000000000000004\n"
          ]
        }
      ]
    }
  ]
}