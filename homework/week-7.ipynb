{
  "nbformat": 4,
  "nbformat_minor": 0,
  "metadata": {
    "colab": {
      "provenance": [],
      "include_colab_link": true
    },
    "kernelspec": {
      "name": "python3",
      "display_name": "Python 3"
    },
    "language_info": {
      "name": "python"
    }
  },
  "cells": [
    {
      "cell_type": "markdown",
      "metadata": {
        "id": "view-in-github",
        "colab_type": "text"
      },
      "source": [
        "<a href=\"https://colab.research.google.com/github/makms2023/ds1002-ntr8qx/blob/main/homework/week-7.ipynb\" target=\"_parent\"><img src=\"https://colab.research.google.com/assets/colab-badge.svg\" alt=\"Open In Colab\"/></a>"
      ]
    },
    {
      "cell_type": "markdown",
      "source": [
        "# Homework - Week 7\n",
        "\n",
        "Complete the following blocks as specified in the directions. Run each cell to return the desired output. Save your notebook back to your GitHub repository and submit the GitHub URL for your notebook for review.\n",
        "\n",
        "Load the following dataset into pandas and perform the requested operations in code.\n",
        "\n",
        "Source: https://ds1002-resources.s3.amazonaws.com/data/ride_sharing.csv"
      ],
      "metadata": {
        "id": "phbaQTT5gy8A"
      }
    },
    {
      "cell_type": "code",
      "source": [
        "# Load pandas and the data\n",
        "import pandas as pd\n",
        "import numpy as np\n",
        "ride_sharing=pd.read_csv('ride_sharing.csv')"
      ],
      "metadata": {
        "id": "kdFLCHtOg53p"
      },
      "execution_count": 16,
      "outputs": []
    },
    {
      "cell_type": "code",
      "source": [
        "# show how many rows and columns are in this dataset\n",
        "ride_sharing.shape\n"
      ],
      "metadata": {
        "id": "Lfh8suAyhKQW",
        "outputId": "a96f999f-71f2-45dd-8519-1e70eb4b08bd",
        "colab": {
          "base_uri": "https://localhost:8080/"
        }
      },
      "execution_count": 6,
      "outputs": [
        {
          "output_type": "execute_result",
          "data": {
            "text/plain": [
              "(25760, 10)"
            ]
          },
          "metadata": {},
          "execution_count": 6
        }
      ]
    },
    {
      "cell_type": "code",
      "source": [
        "from numpy import int64\n",
        "# The first column, \"duration\" is seen as a string.\n",
        "# Using two snippets of code, clean this column up so that\n",
        "# is now an integer (int64)\n",
        "\n",
        "ride_sharing.dtypes\n",
        "ride_sharing.head\n",
        "\n",
        "ride_sharing['duration'] = ride_sharing['duration'].astype(int64)\n",
        "\n",
        "\n"
      ],
      "metadata": {
        "id": "KK5-y9nzhMVq",
        "outputId": "d0fbf959-1b33-47a3-ae92-4363ad3cd400",
        "colab": {
          "base_uri": "https://localhost:8080/"
        }
      },
      "execution_count": 27,
      "outputs": [
        {
          "output_type": "execute_result",
          "data": {
            "text/plain": [
              "<bound method NDFrame.head of        duration  station_A_id  \\\n",
              "0            12            81   \n",
              "1            24             3   \n",
              "2             8            67   \n",
              "3             4            16   \n",
              "4            11            22   \n",
              "...         ...           ...   \n",
              "25755        11            15   \n",
              "25756        10            15   \n",
              "25757        14            15   \n",
              "25758        14            15   \n",
              "25759        29            16   \n",
              "\n",
              "                                          station_A_name  station_B_id  \\\n",
              "0                                     Berry St at 4th St           323   \n",
              "1           Powell St BART Station (Market St at 4th St)           118   \n",
              "2      San Francisco Caltrain Station 2  (Townsend St...            23   \n",
              "3                                Steuart St at Market St            28   \n",
              "4                                  Howard St at Beale St           350   \n",
              "...                                                  ...           ...   \n",
              "25755  San Francisco Ferry Building (Harry Bridges Pl...            34   \n",
              "25756  San Francisco Ferry Building (Harry Bridges Pl...            34   \n",
              "25757  San Francisco Ferry Building (Harry Bridges Pl...            42   \n",
              "25758  San Francisco Ferry Building (Harry Bridges Pl...            42   \n",
              "25759                            Steuart St at Market St           115   \n",
              "\n",
              "                                      station_B_name  bike_id  user_type  \\\n",
              "0                                 Broadway at Kearny     5480          2   \n",
              "1                    Eureka Valley Recreation Center     5193          2   \n",
              "2                      The Embarcadero at Steuart St     3652          3   \n",
              "3                       The Embarcadero at Bryant St     1883          1   \n",
              "4                               8th St at Brannan St     4626          2   \n",
              "...                                              ...      ...        ...   \n",
              "25755                 Father Alfred E Boeddeker Park     5063          1   \n",
              "25756                 Father Alfred E Boeddeker Park     5411          2   \n",
              "25757  San Francisco City Hall (Polk St at Grove St)     5157          2   \n",
              "25758  San Francisco City Hall (Polk St at Grove St)     4438          2   \n",
              "25759                             Jackson Playground     1705          3   \n",
              "\n",
              "       user_birth_year user_gender  tire_size  \n",
              "0                 1959        Male         26  \n",
              "1                 1965        Male         27  \n",
              "2                 1993        Male         29  \n",
              "3                 1979        Male         26  \n",
              "4                 1994        Male         27  \n",
              "...                ...         ...        ...  \n",
              "25755             2000        Male         26  \n",
              "25756             1998        Male         26  \n",
              "25757             1995        Male         26  \n",
              "25758             1995        Male         27  \n",
              "25759             1990        Male         27  \n",
              "\n",
              "[25760 rows x 10 columns]>"
            ]
          },
          "metadata": {},
          "execution_count": 27
        }
      ]
    },
    {
      "cell_type": "code",
      "source": [
        "# Now display the datatypes in the updated dataframe\n",
        "ride_sharing.dtypes"
      ],
      "metadata": {
        "id": "QyGJUshvhz1J",
        "outputId": "d50bacd8-5730-4171-905b-536338e640ce",
        "colab": {
          "base_uri": "https://localhost:8080/"
        }
      },
      "execution_count": 28,
      "outputs": [
        {
          "output_type": "execute_result",
          "data": {
            "text/plain": [
              "duration            int64\n",
              "station_A_id        int64\n",
              "station_A_name     object\n",
              "station_B_id        int64\n",
              "station_B_name     object\n",
              "bike_id             int64\n",
              "user_type           int64\n",
              "user_birth_year     int64\n",
              "user_gender        object\n",
              "tire_size           int64\n",
              "dtype: object"
            ]
          },
          "metadata": {},
          "execution_count": 28
        }
      ]
    },
    {
      "cell_type": "code",
      "source": [
        "# Show the min and max values of ride durations (the shortest and longest rides)\n",
        "# Hint: If 'df' is the name of your dataframe, simply specify the column name\n",
        "# and then append the .min() or .max() methods.\n",
        "print(ride_sharing.duration.min())\n",
        "print(ride_sharing.duration.max())"
      ],
      "metadata": {
        "id": "UCA1OswWh5b5",
        "outputId": "0fa227a1-93cf-4adb-ab80-150829d32190",
        "colab": {
          "base_uri": "https://localhost:8080/"
        }
      },
      "execution_count": 39,
      "outputs": [
        {
          "output_type": "stream",
          "name": "stdout",
          "text": [
            "1\n",
            "1372\n"
          ]
        }
      ]
    },
    {
      "cell_type": "code",
      "source": [
        "# Create a new dataframe object and populate it with rides that are 60 minutes or less.\n",
        "# Hint: Use the .query() method for the dataframe that we used in class.\n",
        "ride_sharing_2 = ride_sharing.drop(ride_sharing[ride_sharing['duration'] > 60].index)\n"
      ],
      "metadata": {
        "id": "K7mStv5kibbA"
      },
      "execution_count": 44,
      "outputs": []
    },
    {
      "cell_type": "code",
      "source": [
        "# Now show both the min and max values of the duration column for your new dataset.\n",
        "print(ride_sharing_2.duration.min())\n",
        "print(ride_sharing_2.duration.max())"
      ],
      "metadata": {
        "id": "v63UdQjNi-w5",
        "outputId": "a58b5665-f9ea-4d40-f949-643c7523d57b",
        "colab": {
          "base_uri": "https://localhost:8080/"
        }
      },
      "execution_count": 43,
      "outputs": [
        {
          "output_type": "stream",
          "name": "stdout",
          "text": [
            "1\n",
            "60\n"
          ]
        }
      ]
    },
    {
      "cell_type": "code",
      "source": [
        "# Using the new dataframe, update it so that is ONLY has records where\n",
        "# the tire_size is 26.\n",
        "ride_sharing_2=ride_sharing_2[ride_sharing_2[\"tire_size\"]==26]"
      ],
      "metadata": {
        "id": "xTzb_j9rjGk2"
      },
      "execution_count": 47,
      "outputs": []
    },
    {
      "cell_type": "code",
      "source": [
        "from ast import And\n",
        "# Finally, produce a count of all records with FEMALE riders\n",
        "# using the 26-inch wheeled rental bikes for their rentals of\n",
        "# one hour or less.\n",
        "len(ride_sharing_2[ride_sharing_2[\"user_gender\"]==\"FEMALE\"])"
      ],
      "metadata": {
        "id": "0cwbfj66jrG9",
        "outputId": "2373fcbb-611d-4b69-adce-96f89098698a",
        "colab": {
          "base_uri": "https://localhost:8080/"
        }
      },
      "execution_count": 54,
      "outputs": [
        {
          "output_type": "execute_result",
          "data": {
            "text/plain": [
              "0"
            ]
          },
          "metadata": {},
          "execution_count": 54
        }
      ]
    }
  ]
}