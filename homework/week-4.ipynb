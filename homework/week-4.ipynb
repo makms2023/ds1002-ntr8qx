{
  "nbformat": 4,
  "nbformat_minor": 0,
  "metadata": {
    "colab": {
      "provenance": [],
      "include_colab_link": true
    },
    "kernelspec": {
      "name": "python3",
      "display_name": "Python 3"
    },
    "language_info": {
      "name": "python"
    }
  },
  "cells": [
    {
      "cell_type": "markdown",
      "metadata": {
        "id": "view-in-github",
        "colab_type": "text"
      },
      "source": [
        "<a href=\"https://colab.research.google.com/github/makms2023/ds1002-ntr8qx/blob/main/homework/week-4.ipynb\" target=\"_parent\"><img src=\"https://colab.research.google.com/assets/colab-badge.svg\" alt=\"Open In Colab\"/></a>"
      ]
    },
    {
      "cell_type": "markdown",
      "source": [
        "# Homework - Week 4\n",
        "\n",
        "Complete the following blocks as specified in the directions. Run each cell to return the desired output. Save your notebook back to your GitHub repository and submit the GitHub URL for your notebook for review."
      ],
      "metadata": {
        "id": "xJ6ZWHKXW4qY"
      }
    },
    {
      "cell_type": "markdown",
      "source": [
        "## 1. Data Types\n",
        "\n",
        "```python\n",
        "s = \"Fox\"\n",
        "x = 17\n",
        "y = \"3\"\n",
        "z = \"false\"\n",
        "```\n",
        "\n",
        "Using the variables above answer these questions:"
      ],
      "metadata": {
        "id": "atxtPF2-XXiW"
      }
    },
    {
      "cell_type": "code",
      "execution_count": 7,
      "metadata": {
        "id": "mdX0VBQgW1-9",
        "outputId": "b0a00525-51f9-4837-ec94-7a9f1605bbfc",
        "colab": {
          "base_uri": "https://localhost:8080/"
        }
      },
      "outputs": [
        {
          "output_type": "execute_result",
          "data": {
            "text/plain": [
              "str"
            ]
          },
          "metadata": {},
          "execution_count": 7
        }
      ],
      "source": [
        "# Write a snippet of code that displays the data type (class) of `s`\n",
        "type(s)\n"
      ]
    },
    {
      "cell_type": "code",
      "source": [
        "# Write a snippet of code that adds `x` and `y` and displays their sum.\n",
        "x=17\n",
        "y=\"3\"\n",
        "print(int(y)+x)"
      ],
      "metadata": {
        "id": "OoLP555BbMWi",
        "outputId": "30938d45-a967-4ece-b3ae-c7e8a227ddc6",
        "colab": {
          "base_uri": "https://localhost:8080/"
        }
      },
      "execution_count": 13,
      "outputs": [
        {
          "output_type": "stream",
          "name": "stdout",
          "text": [
            "20\n"
          ]
        }
      ]
    },
    {
      "cell_type": "code",
      "source": [
        "\n",
        "# How might you transform z into a boolean value, if you had to? Be creative.\n",
        "if z==\"true\":\n",
        "  z=True\n",
        "if z==\"false\":\n",
        "  z=False\n",
        "z"
      ],
      "metadata": {
        "id": "--XDmwVsbMC0",
        "outputId": "75094e04-c919-40d5-83b0-f6cfc00c7ddb",
        "colab": {
          "base_uri": "https://localhost:8080/"
        }
      },
      "execution_count": 73,
      "outputs": [
        {
          "output_type": "execute_result",
          "data": {
            "text/plain": [
              "bool"
            ]
          },
          "metadata": {},
          "execution_count": 73
        }
      ]
    },
    {
      "cell_type": "markdown",
      "source": [
        "- - -"
      ],
      "metadata": {
        "id": "zPvfX62VbK40"
      }
    },
    {
      "cell_type": "markdown",
      "source": [
        "## 2. Lists\n",
        "\n",
        "    mylist = [\"Chicago\",\"New Orleans\", \"Tempe\", \"Denver\", \"Nashville\", \"Albany\"]\n",
        "\n",
        "Using the list above, answer these questions:"
      ],
      "metadata": {
        "id": "j0mCENI3XK2i"
      }
    },
    {
      "cell_type": "code",
      "source": [
        "# Write a snippet of code that prints out \"Tempe\"\n",
        "mylist = [\"Chicago\",\"New Orleans\", \"Tempe\", \"Denver\", \"Nashville\", \"Albany\"]\n",
        "mylist[2]"
      ],
      "metadata": {
        "id": "2szfLXZcYC_7",
        "outputId": "b62b4b43-908c-419e-b5b0-57fde9d4e998",
        "colab": {
          "base_uri": "https://localhost:8080/",
          "height": 35
        }
      },
      "execution_count": 33,
      "outputs": [
        {
          "output_type": "execute_result",
          "data": {
            "text/plain": [
              "'Tempe'"
            ],
            "application/vnd.google.colaboratory.intrinsic+json": {
              "type": "string"
            }
          },
          "metadata": {},
          "execution_count": 33
        }
      ]
    },
    {
      "cell_type": "code",
      "source": [
        "\n",
        "# Write a snippet of code that adds \"Atlanta\" to this list and displays the extended list.\n",
        "mylist = [\"Chicago\",\"New Orleans\", \"Tempe\", \"Denver\", \"Nashville\", \"Albany\"]\n",
        "x=\"Atlanta\"\n",
        "mylist.append(x)\n",
        "mylist"
      ],
      "metadata": {
        "id": "P6IeQYoTdMhh",
        "outputId": "ea0be3c9-a381-4d56-e85f-65a70ac0d691",
        "colab": {
          "base_uri": "https://localhost:8080/"
        }
      },
      "execution_count": 45,
      "outputs": [
        {
          "output_type": "execute_result",
          "data": {
            "text/plain": [
              "['Chicago', 'New Orleans', 'Tempe', 'Denver', 'Nashville', 'Albany', 'Atlanta']"
            ]
          },
          "metadata": {},
          "execution_count": 45
        }
      ]
    },
    {
      "cell_type": "code",
      "source": [
        "# Write a snippet of code that prints out only \"New Orleans\", \"Tempe\", \"Denver\".\n",
        "mylist[1:4]\n"
      ],
      "metadata": {
        "id": "t43LdDkhdM2N",
        "outputId": "c0221819-8977-4680-a6cb-b71d83a0e534",
        "colab": {
          "base_uri": "https://localhost:8080/"
        }
      },
      "execution_count": 42,
      "outputs": [
        {
          "output_type": "execute_result",
          "data": {
            "text/plain": [
              "['New Orleans', 'Tempe', 'Denver']"
            ]
          },
          "metadata": {},
          "execution_count": 42
        }
      ]
    },
    {
      "cell_type": "markdown",
      "source": [
        "- - -"
      ],
      "metadata": {
        "id": "ATrOT4dYbIVH"
      }
    },
    {
      "cell_type": "markdown",
      "source": [
        "# 3. Dictionaries\n",
        "\n",
        "    mydict = {\"VA\":\"Richmond\", \"NC\":\"Raleigh\", \"NJ\":\"Trenton\", \"PA\":\"Harrisburg\", \"NY\":\"Albany\"}\n",
        "\n",
        "Answer the following questions:"
      ],
      "metadata": {
        "id": "GeXcT_9sYEdx"
      }
    },
    {
      "cell_type": "code",
      "source": [
        "# Write a snippet of code that returns \"Trenton\".\n",
        "mydict = {\"VA\":\"Richmond\", \"NC\":\"Raleigh\", \"NJ\":\"Trenton\", \"PA\":\"Harrisburg\", \"NY\":\"Albany\"}\n",
        "mydict[\"NJ\"]"
      ],
      "metadata": {
        "id": "v3fvvKP4ZUvJ",
        "outputId": "8cc00648-3abb-4586-b59c-830e46ce7009",
        "colab": {
          "base_uri": "https://localhost:8080/",
          "height": 35
        }
      },
      "execution_count": 48,
      "outputs": [
        {
          "output_type": "execute_result",
          "data": {
            "text/plain": [
              "'Trenton'"
            ],
            "application/vnd.google.colaboratory.intrinsic+json": {
              "type": "string"
            }
          },
          "metadata": {},
          "execution_count": 48
        }
      ]
    },
    {
      "cell_type": "code",
      "source": [
        "# Write a snippet of code that adds \"CO\":\"Denver\" to `mydict`.\n",
        "# Remember the built-in .update({'key': 'value'}) method.\n",
        "mydict.update({\"CO\":\"Denver\"})\n",
        "mydict"
      ],
      "metadata": {
        "id": "OEwUkIDNa90b",
        "outputId": "56396343-0930-4520-9871-1c18755c0404",
        "colab": {
          "base_uri": "https://localhost:8080/"
        }
      },
      "execution_count": 62,
      "outputs": [
        {
          "output_type": "execute_result",
          "data": {
            "text/plain": [
              "{'VA': 'Richmond',\n",
              " 'NC': 'Raleigh',\n",
              " 'NJ': 'Trenton',\n",
              " 'PA': 'Harrisburg',\n",
              " 'NY': 'Albany',\n",
              " 'CO': 'Denver'}"
            ]
          },
          "metadata": {},
          "execution_count": 62
        }
      ]
    },
    {
      "cell_type": "code",
      "source": [
        "# Write a snippet of code that returns all the keys in `mydict`\n",
        "mydict = {\"VA\":\"Richmond\", \"NC\":\"Raleigh\", \"NJ\":\"Trenton\", \"PA\":\"Harrisburg\", \"NY\":\"Albany\"}\n",
        "print(mydict.keys())"
      ],
      "metadata": {
        "id": "VwoLtOILbF2K",
        "outputId": "1d07ae61-153b-48d5-a944-3100b0ab2c1b",
        "colab": {
          "base_uri": "https://localhost:8080/"
        }
      },
      "execution_count": 54,
      "outputs": [
        {
          "output_type": "stream",
          "name": "stdout",
          "text": [
            "dict_keys(['VA', 'NC', 'NJ', 'PA', 'NY'])\n"
          ]
        }
      ]
    },
    {
      "cell_type": "markdown",
      "source": [
        "- - -"
      ],
      "metadata": {
        "id": "svpBBTSYa5Dh"
      }
    },
    {
      "cell_type": "markdown",
      "source": [
        "# 4. NumPy Arrays\n",
        "\n",
        "Create an `ndarray` that contains the following values and assign the array to a variable.\n",
        "\n",
        "    2, 3, 5, 7, 11, 13, 17, 19, 23, 29, 31, 37\n",
        "\n",
        "Using that variable, answer the following questions:"
      ],
      "metadata": {
        "id": "DkVtHJBoYW34"
      }
    },
    {
      "cell_type": "code",
      "source": [
        "# Write a snippet of code that prints the data type of the elements in the array.\n",
        "import numpy as np\n",
        "x=np.array([2, 3, 5, 7, 11, 13, 17, 19, 23, 29, 31, 37])\n",
        "x.dtype"
      ],
      "metadata": {
        "id": "db5UdbrVZSiJ",
        "outputId": "6fb8e4e3-9a51-4434-839b-110d5a18c00e",
        "colab": {
          "base_uri": "https://localhost:8080/"
        }
      },
      "execution_count": 64,
      "outputs": [
        {
          "output_type": "execute_result",
          "data": {
            "text/plain": [
              "dtype('int64')"
            ]
          },
          "metadata": {},
          "execution_count": 64
        }
      ]
    },
    {
      "cell_type": "code",
      "source": [
        "# Write a snippet of code that displays `11` from the array.\n",
        "x[4]"
      ],
      "metadata": {
        "id": "8je9wRG9aoWb",
        "outputId": "3ab6fcc2-e92e-4f5f-d333-1c08164c979a",
        "colab": {
          "base_uri": "https://localhost:8080/"
        }
      },
      "execution_count": 66,
      "outputs": [
        {
          "output_type": "execute_result",
          "data": {
            "text/plain": [
              "11"
            ]
          },
          "metadata": {},
          "execution_count": 66
        }
      ]
    },
    {
      "cell_type": "code",
      "source": [
        "# Write a snippet of code that multiplies each array element by `7` and displays the new values.\n",
        "x*7"
      ],
      "metadata": {
        "id": "GBT5RzQfaovb",
        "outputId": "c237f3ff-c513-4054-9de6-c4552b41c0d1",
        "colab": {
          "base_uri": "https://localhost:8080/"
        }
      },
      "execution_count": 67,
      "outputs": [
        {
          "output_type": "execute_result",
          "data": {
            "text/plain": [
              "array([ 14,  21,  35,  49,  77,  91, 119, 133, 161, 203, 217, 259])"
            ]
          },
          "metadata": {},
          "execution_count": 67
        }
      ]
    }
  ]
}