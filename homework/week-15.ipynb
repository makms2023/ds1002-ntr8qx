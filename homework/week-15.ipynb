{
  "nbformat": 4,
  "nbformat_minor": 0,
  "metadata": {
    "colab": {
      "provenance": [],
      "include_colab_link": true
    },
    "kernelspec": {
      "name": "ir",
      "display_name": "R"
    },
    "language_info": {
      "name": "R"
    }
  },
  "cells": [
    {
      "cell_type": "markdown",
      "metadata": {
        "id": "view-in-github",
        "colab_type": "text"
      },
      "source": [
        "<a href=\"https://colab.research.google.com/github/makms2023/ds1002-ntr8qx/blob/main/homework/week-15.ipynb\" target=\"_parent\"><img src=\"https://colab.research.google.com/assets/colab-badge.svg\" alt=\"Open In Colab\"/></a>"
      ]
    },
    {
      "cell_type": "markdown",
      "source": [
        "# Homework - Week 15\n",
        "\n",
        "Complete the following blocks as specified in the directions. Run each cell to return the desired output. Save your notebook back to your GitHub repository and submit the GitHub URL to your notebook for review."
      ],
      "metadata": {
        "id": "sZruw3XQogej"
      }
    },
    {
      "cell_type": "markdown",
      "source": [
        "## 1. Create Functions (4 pts)\n",
        "\n",
        "Create two functions in the cells below, according to the prompts given."
      ],
      "metadata": {
        "id": "lkaofBQypx1X"
      }
    },
    {
      "cell_type": "code",
      "source": [
        "# create a function in R that:\n",
        "#   1. takes a single integer as an input parameter\n",
        "#   2. determines whether the integer is even or odd\n",
        "#   3. returns a character statement \"The integer <x> is even\" or \"The integer <x> is odd\" (replace <x> with the actual input provided)\n",
        "\n",
        "classify_integer <- function(x) {\n",
        "  if (x %% 2 == 0) {\n",
        "    return(paste(\"The integer\", x, \"is even\"))\n",
        "  } else {\n",
        "    return(paste(\"The integer\", x, \"is odd\"))\n",
        "  }\n",
        "}\n",
        "# then execute the function twice using two different input values, displaying even and odd results.\n",
        "\n",
        "result1 <- classify_integer(4)\n",
        "result2 <- classify_integer(7)\n",
        "\n",
        "# Display the results\n",
        "cat(result1, \"\\n\")\n",
        "cat(result2,\"\\n\")\n"
      ],
      "metadata": {
        "id": "1fjq5bkEp6Zv",
        "colab": {
          "base_uri": "https://localhost:8080/"
        },
        "outputId": "f7001bfe-e4d4-440e-e474-3271bc63e9f3"
      },
      "execution_count": 21,
      "outputs": [
        {
          "output_type": "stream",
          "name": "stdout",
          "text": [
            "The integer 4 is even \n",
            "The integer 7 is odd \n"
          ]
        }
      ]
    },
    {
      "cell_type": "code",
      "source": [
        "# create a function in R that:\n",
        "#   1. takes 4 integer input parameters\n",
        "#   2. returns the mean value of the inputs\n",
        "#   3. has default values for the 4 input parameters, in case they are not provided when the function is called.\n",
        "calculate_mean <- function(a=0 , b=0 , c=0 , d=0 ) {\n",
        "  mean_value <- mean(c(a, b, c, d))\n",
        "  return(mean_value)\n",
        "}\n",
        "# then execute the function twice: once where you provide the input values, and once where you do not.\n",
        "\n",
        "result_with_values <- calculate_mean(2, 4, 6, 8)\n",
        "print(result_with_values)\n",
        "\n",
        "\n",
        "result_without_values <- calculate_mean()\n",
        "print(result_without_values)\n",
        "\n",
        "\n",
        "\n"
      ],
      "metadata": {
        "id": "f3IFD-T6p6Rd",
        "colab": {
          "base_uri": "https://localhost:8080/"
        },
        "outputId": "3a0d8e39-72bb-4c1a-c506-8e5f61b2eae3"
      },
      "execution_count": 28,
      "outputs": [
        {
          "output_type": "stream",
          "name": "stdout",
          "text": [
            "[1] 5\n",
            "[1] 0\n"
          ]
        }
      ]
    },
    {
      "cell_type": "markdown",
      "source": [
        "## 2. Plot Data (4 pts)"
      ],
      "metadata": {
        "id": "F6Rx0GIGrpOB"
      }
    },
    {
      "cell_type": "markdown",
      "source": [
        "In the cell below, write the code required to plot from the `msleep` sample data set.\n",
        "\n",
        "1. Display only animals with body weights of 30 or greater.\n",
        "2. Group the animals by `order`.\n",
        "3. Display the mean `sleep_total` for each group in a bar plot."
      ],
      "metadata": {
        "id": "IDLyOjOJsFCX"
      }
    },
    {
      "cell_type": "code",
      "source": [
        "#\n",
        "\n",
        "library(tidyverse)\n",
        "library(ggplot2)\n",
        "install.packages(\"gapminder\")\n",
        "library(gapminder)\n",
        "\n",
        "data()\n",
        "\n",
        "\n",
        "filtered_data <- msleep[msleep$bodywt >= 30, ]\n",
        "grouped_data <- aggregate(sleep_total ~ order, data = filtered_data, mean)\n",
        "\n",
        "ggplot(grouped_data, aes(x = order, y = sleep_total)) +\n",
        "  geom_bar(stat = \"identity\", fill = \"skyblue\") +\n",
        "  labs(title = \"Mean Sleep Total by Order\",\n",
        "       x = \"Order\",\n",
        "       y = \"Mean Sleep Total\") +\n",
        "\n",
        "theme_minimal()"
      ],
      "metadata": {
        "id": "0D5Ia-BPsoPZ",
        "colab": {
          "base_uri": "https://localhost:8080/",
          "height": 491
        },
        "outputId": "8bd0732b-0bc5-481e-f90c-2649a1a500a8"
      },
      "execution_count": 34,
      "outputs": [
        {
          "output_type": "stream",
          "name": "stderr",
          "text": [
            "Installing package into ‘/usr/local/lib/R/site-library’\n",
            "(as ‘lib’ is unspecified)\n",
            "\n"
          ]
        },
        {
          "output_type": "display_data",
          "data": {
            "text/plain": [
              "plot without title"
            ],
            "image/png": "[encoded data removed]"
          },
          "metadata": {
            "image/png": {
              "width": 420,
              "height": 420
            }
          }
        }
      ]
    },
    {
      "cell_type": "markdown",
      "source": [
        "## 3. Clean and Analyze Data Using R (4 pts)\n",
        "\n",
        "In the cells below use R to perform the following data cleaning steps on this file:\n",
        "https://raw.githubusercontent.com/nmagee/ds1002/main/data/social-media-users.csv\n",
        "\n",
        "1. Remove any duplicate rows.\n",
        "2. Remove any records where `last_login` or `birthdate` are empty.\n",
        "3. Display only the records with the 10 highest `follower` counts.\n",
        "4. Determine counts of users when grouped by continent."
      ],
      "metadata": {
        "id": "-2ZaFcCCv3o8"
      }
    },
    {
      "cell_type": "code",
      "source": [
        "#\n",
        "\n",
        "df <- read_csv(\"https://raw.githubusercontent.com/nmagee/ds1002/main/data/social-media-users.csv\")\n",
        "df <- distinct(social_media_data)"
      ],
      "metadata": {
        "id": "V4nBsdVsyauQ",
        "colab": {
          "base_uri": "https://localhost:8080/"
        },
        "outputId": "88b0d48f-3c6d-41e2-dff7-3c5593b68ef6"
      },
      "execution_count": 41,
      "outputs": [
        {
          "output_type": "stream",
          "name": "stderr",
          "text": [
            "\u001b[1mRows: \u001b[22m\u001b[34m1318\u001b[39m \u001b[1mColumns: \u001b[22m\u001b[34m8\u001b[39m\n",
            "\u001b[36m──\u001b[39m \u001b[1mColumn specification\u001b[22m \u001b[36m────────────────────────────────────────────────────────\u001b[39m\n",
            "\u001b[1mDelimiter:\u001b[22m \",\"\n",
            "\u001b[31mchr\u001b[39m (7): username, full_name, birthdate, email, continent, last_login, inter...\n",
            "\u001b[32mdbl\u001b[39m (1): followers\n",
            "\n",
            "\u001b[36mℹ\u001b[39m Use `spec()` to retrieve the full column specification for this data.\n",
            "\u001b[36mℹ\u001b[39m Specify the column types or set `show_col_types = FALSE` to quiet this message.\n"
          ]
        }
      ]
    },
    {
      "cell_type": "code",
      "source": [
        "#\n",
        "df <- df%>%\n",
        "  filter(!is.na(last_login) & !is.na(birthdate))"
      ],
      "metadata": {
        "id": "LwXD1sNulIT3"
      },
      "execution_count": 39,
      "outputs": []
    },
    {
      "cell_type": "code",
      "source": [
        "#\n",
        "top_10_followers <- df %>%\n",
        "  arrange(desc(followers)) %>%\n",
        "  head(10)"
      ],
      "metadata": {
        "id": "7qa100btlI4Z"
      },
      "execution_count": 40,
      "outputs": []
    },
    {
      "cell_type": "code",
      "source": [
        "#\n",
        "\n",
        "user_counts_by_continent <- df %>%\n",
        "  group_by(continent) %>%\n",
        "  summarise(user_count = n())\n",
        "\n",
        "print(user_counts_by_continent)"
      ],
      "metadata": {
        "id": "MjrZisnxlJUa",
        "colab": {
          "base_uri": "https://localhost:8080/"
        },
        "outputId": "283ab455-44ed-4474-9717-5c0e7f442f20"
      },
      "execution_count": 43,
      "outputs": [
        {
          "output_type": "stream",
          "name": "stdout",
          "text": [
            "\u001b[90m# A tibble: 6 × 2\u001b[39m\n",
            "  continent user_count\n",
            "  \u001b[3m\u001b[90m<chr>\u001b[39m\u001b[23m          \u001b[3m\u001b[90m<int>\u001b[39m\u001b[23m\n",
            "\u001b[90m1\u001b[39m AF                70\n",
            "\u001b[90m2\u001b[39m AS               111\n",
            "\u001b[90m3\u001b[39m EU                77\n",
            "\u001b[90m4\u001b[39m OC                95\n",
            "\u001b[90m5\u001b[39m SA                69\n",
            "\u001b[90m6\u001b[39m \u001b[31mNA\u001b[39m               228\n"
          ]
        }
      ]
    }
  ]
}